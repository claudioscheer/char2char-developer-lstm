{
 "cells": [
  {
   "cell_type": "markdown",
   "metadata": {},
   "source": [
    "## Generating sequences using encoder-decoder LSTM"
   ]
  },
  {
   "cell_type": "markdown",
   "metadata": {},
   "source": [
    "### Dataset"
   ]
  },
  {
   "cell_type": "code",
   "execution_count": 176,
   "metadata": {},
   "outputs": [],
   "source": [
    "import random\n",
    "import numpy as np\n",
    "import pandas as pd"
   ]
  },
  {
   "cell_type": "markdown",
   "metadata": {},
   "source": [
    "The function `generate_sequence` generate a sequence of random integers of length `n`."
   ]
  },
  {
   "cell_type": "code",
   "execution_count": 177,
   "metadata": {},
   "outputs": [],
   "source": [
    "def generate_sequence(length = 25):\n",
    "    return [random.randint(0, 99) for _ in range(length)]"
   ]
  },
  {
   "cell_type": "markdown",
   "metadata": {},
   "source": [
    "One-Hot encoder transforms the number (or even string) to a binary value. In this example, `0 = [1, 0, 0, 0, ..., 0], ..., 99 = [0, 0, 0, ..., 1]`."
   ]
  },
  {
   "cell_type": "code",
   "execution_count": 178,
   "metadata": {},
   "outputs": [],
   "source": [
    "def one_hot_encode(sequence, n_unique = 100):\n",
    "    encoding = list()\n",
    "    for x in sequence:\n",
    "        vector = [0 for _ in range(n_unique)]\n",
    "        vector[x] = 1\n",
    "        encoding.append(vector)\n",
    "    return np.array(encoding)"
   ]
  },
  {
   "cell_type": "markdown",
   "metadata": {},
   "source": [
    "The function `one_hot_decode` decodes a binary array encoded with function `one_hot_encode`. `np.argmax` returns the index of the higher value in the binary array. Since there is only one `1` in the array, it will be the index of the value encoded."
   ]
  },
  {
   "cell_type": "code",
   "execution_count": 179,
   "metadata": {},
   "outputs": [],
   "source": [
    "def one_hot_decode(sequence):\n",
    "    return [np.argmax(x) for x in sequence]"
   ]
  },
  {
   "cell_type": "markdown",
   "metadata": {},
   "source": [
    "The next step is, given a sequence, to transform the random generated sequence on a structured dataset that can be used to train LSTM network in a supervised manner.\n",
    "\n",
    "The `x` will be a sequence of 5 items from the sequence randomly generated and `y` will be the first 3 items from the `x` array."
   ]
  },
  {
   "cell_type": "code",
   "execution_count": 180,
   "metadata": {},
   "outputs": [],
   "source": [
    "def to_dataset(encoded_sequence, size_x = 5, size_y = 3):\n",
    "    df = pd.DataFrame(encoded_sequence)\n",
    "    df = pd.concat([df.shift(size_x - i - 1) for i in range(size_x)], axis=1)\n",
    "    # Drop rows with NaN (missing values).\n",
    "    df.dropna(inplace=True)\n",
    "    # Return DataFrame as an array.\n",
    "    values = df.values\n",
    "    # Size of the arrays that have the encoded values.\n",
    "    width = encoded_sequence.shape[1]\n",
    "    x = values.reshape(len(values), size_x, width)\n",
    "    y = values[:, 0:(size_y * width)].reshape(len(values), size_y, width)\n",
    "    return x, y"
   ]
  },
  {
   "cell_type": "code",
   "execution_count": 189,
   "metadata": {},
   "outputs": [],
   "source": [
    "def get_data(length_data, size_x, size_y):\n",
    "    sequence = generate_sequence(length_data)\n",
    "    encoded_sequence = one_hot_encode(sequence)\n",
    "    x, y = to_dataset(encoded_sequence, size_x, size_y)\n",
    "    return x, y"
   ]
  },
  {
   "cell_type": "markdown",
   "metadata": {},
   "source": [
    "### Network"
   ]
  },
  {
   "cell_type": "code",
   "execution_count": 182,
   "metadata": {},
   "outputs": [],
   "source": [
    "import torch\n",
    "import torch.nn as nn"
   ]
  },
  {
   "cell_type": "markdown",
   "metadata": {},
   "source": [
    "Define the LSTM network. The network has 256 hidden neurons and 2 LSTM layers."
   ]
  },
  {
   "cell_type": "code",
   "execution_count": 197,
   "metadata": {},
   "outputs": [],
   "source": [
    "lstm = nn.LSTM(100, 256, 2)"
   ]
  },
  {
   "cell_type": "markdown",
   "metadata": {},
   "source": [
    "Define the optimization function."
   ]
  },
  {
   "cell_type": "code",
   "execution_count": null,
   "metadata": {},
   "outputs": [],
   "source": [
    "opt = torch.optim.Adam(net.parameters(), lr=lr)"
   ]
  },
  {
   "cell_type": "markdown",
   "metadata": {},
   "source": [
    "Define the loss function."
   ]
  },
  {
   "cell_type": "code",
   "execution_count": 198,
   "metadata": {},
   "outputs": [],
   "source": [
    "criterion = nn.CrossEntropyLoss()"
   ]
  },
  {
   "cell_type": "markdown",
   "metadata": {},
   "source": [
    "### Test"
   ]
  },
  {
   "cell_type": "code",
   "execution_count": 193,
   "metadata": {},
   "outputs": [
    {
     "data": {
      "text/plain": [
       "(96, 5, 100)"
      ]
     },
     "execution_count": 193,
     "metadata": {},
     "output_type": "execute_result"
    }
   ],
   "source": [
    "random.seed(0)\n",
    "x, y = get_data(100, 5, 5)\n",
    "x.shape"
   ]
  },
  {
   "cell_type": "code",
   "execution_count": 194,
   "metadata": {},
   "outputs": [
    {
     "data": {
      "text/plain": [
       "('d', 'a', 'f', 's')"
      ]
     },
     "execution_count": 194,
     "metadata": {},
     "output_type": "execute_result"
    }
   ],
   "source": [
    "tuple(set('asdfa'))"
   ]
  },
  {
   "cell_type": "code",
   "execution_count": null,
   "metadata": {},
   "outputs": [],
   "source": []
  },
  {
   "cell_type": "code",
   "execution_count": null,
   "metadata": {},
   "outputs": [],
   "source": []
  },
  {
   "cell_type": "code",
   "execution_count": null,
   "metadata": {},
   "outputs": [],
   "source": []
  },
  {
   "cell_type": "code",
   "execution_count": null,
   "metadata": {},
   "outputs": [],
   "source": []
  },
  {
   "cell_type": "code",
   "execution_count": null,
   "metadata": {},
   "outputs": [],
   "source": []
  }
 ],
 "metadata": {
  "kernelspec": {
   "display_name": "Python 3",
   "language": "python",
   "name": "python3"
  },
  "language_info": {
   "codemirror_mode": {
    "name": "ipython",
    "version": 3
   },
   "file_extension": ".py",
   "mimetype": "text/x-python",
   "name": "python",
   "nbconvert_exporter": "python",
   "pygments_lexer": "ipython3",
   "version": "3.8.3"
  }
 },
 "nbformat": 4,
 "nbformat_minor": 4
}
